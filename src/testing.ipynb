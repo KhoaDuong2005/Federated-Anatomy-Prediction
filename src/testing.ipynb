{
 "cells": [
  {
   "cell_type": "code",
   "execution_count": 1,
   "metadata": {},
   "outputs": [],
   "source": [
    "import numpy as np\n",
    "import torch\n",
    "import torch.nn as nn\n",
    "import torch.optim as optim\n",
    "from torchvision import models, datasets, transforms\n",
    "from torch.utils.data import DataLoader, random_split, Dataset\n",
    "import matplotlib.pyplot as plt\n",
    "from PIL import Image\n",
    "from typing import Dict, List, Union\n",
    "from store_and_retrieve import load_images_from_mongodb\n",
    "import cv2"
   ]
  },
  {
   "cell_type": "code",
   "execution_count": 2,
   "metadata": {},
   "outputs": [
    {
     "data": {
      "text/plain": [
       "device(type='cuda', index=0)"
      ]
     },
     "execution_count": 2,
     "metadata": {},
     "output_type": "execute_result"
    }
   ],
   "source": [
    "device = torch.device(\"cuda:0\" if torch.cuda.is_available() else \"cpu\")\n",
    "device"
   ]
  },
  {
   "cell_type": "code",
   "execution_count": 3,
   "metadata": {},
   "outputs": [],
   "source": [
    "transform = transforms.Compose([\n",
    "    transforms.Resize((224, 224)),\n",
    "    transforms.ToTensor()\n",
    "])"
   ]
  },
  {
   "cell_type": "code",
   "execution_count": 4,
   "metadata": {},
   "outputs": [],
   "source": [
    "class MongoDBDataset(Dataset):\n",
    "    def __init__(self, query: Dict = None, modality: str = None, body_part: str = None, is_anatomy: str = None, transform = None):\n",
    "        super().__init__ ()\n",
    "        self.data = load_images_from_mongodb(query, modality, body_part, is_anatomy)\n",
    "        self.transform = transform\n",
    "    \n",
    "    def __len__(self):\n",
    "        return len(self.data)\n",
    "\n",
    "    def __getitem__(self, idx):\n",
    "        image_info = self.data[idx]\n",
    "        image_array = image_info[\"image_array\"]\n",
    "        image = Image.fromarray(image_array.astype(np.uint8))\n",
    "        \n",
    "\n",
    "        if self.transform:\n",
    "            image = self.transform(image)\n",
    "        \n",
    "        label =  1 if image_info[\"metadata\"].get(\"is_anatomy\", None) else 0\n",
    "\n",
    "        return image, label\n",
    "\n",
    "    @property\n",
    "    def classes(self):\n",
    "        # Use \"is_anatomy\" or another correct key, and filter out None values\n",
    "        return sorted(set([image_info[\"metadata\"].get(\"is_anatomy\") for image_info in self.data if image_info[\"metadata\"].get(\"is_anatomy\") is not None]))"
   ]
  },
  {
   "cell_type": "code",
   "execution_count": null,
   "metadata": {},
   "outputs": [
    {
     "name": "stderr",
     "output_type": "stream",
     "text": [
      "Loading images: 100%|██████████| 1993/1993 [00:04<00:00, 402.77 images/s]\n"
     ]
    },
    {
     "name": "stdout",
     "output_type": "stream",
     "text": [
      "1993 Image(s) loaded from MongoDB\n"
     ]
    }
   ],
   "source": [
    "dataset = MongoDBDataset({}, \"mri\", \"brain\", None, transform=transform)"
   ]
  },
  {
   "cell_type": "code",
   "execution_count": 54,
   "metadata": {},
   "outputs": [],
   "source": [
    "valid_pct = 0.2\n",
    "num_valid = int(valid_pct * len(dataset))\n",
    "num_train =  len(dataset) - num_valid\n",
    "train_data, valid_data = random_split(dataset, [num_train, num_valid], generator=torch.Generator().manual_seed(42))"
   ]
  },
  {
   "cell_type": "code",
   "execution_count": 55,
   "metadata": {},
   "outputs": [],
   "source": [
    "train_loader = DataLoader(train_data, batch_size=32, shuffle=True)\n",
    "valid_loader = DataLoader(valid_data, batch_size=32, shuffle=False)"
   ]
  },
  {
   "cell_type": "code",
   "execution_count": 56,
   "metadata": {},
   "outputs": [],
   "source": [
    "model = models.resnet18(weights=models.ResNet18_Weights.DEFAULT)\n",
    "num_of_features = model.fc.in_features\n",
    "model.fc = nn.Linear(num_of_features, len(dataset.classes))\n",
    "model = model.to(device)"
   ]
  },
  {
   "cell_type": "code",
   "execution_count": 57,
   "metadata": {},
   "outputs": [],
   "source": [
    "criterion = nn.CrossEntropyLoss()\n",
    "optimizer = optim.Adam(model.parameters(), lr=3e-4)"
   ]
  },
  {
   "cell_type": "code",
   "execution_count": 58,
   "metadata": {},
   "outputs": [
    {
     "name": "stdout",
     "output_type": "stream",
     "text": [
      "Epoch 1/5:\n",
      "Loss = 0.4176\n",
      "Train Accuracy: 0.8300\n",
      "Validate Accuracy: 0.9054\n",
      "\n",
      "Epoch 2/5:\n",
      "Loss = 0.1550\n",
      "Train Accuracy: 0.9411\n",
      "Validate Accuracy: 0.9561\n",
      "\n",
      "Epoch 3/5:\n",
      "Loss = 0.0477\n",
      "Train Accuracy: 0.9874\n",
      "Validate Accuracy: 0.9155\n",
      "\n",
      "Epoch 4/5:\n",
      "Loss = 0.0785\n",
      "Train Accuracy: 0.9747\n",
      "Validate Accuracy: 0.9358\n",
      "\n",
      "Epoch 5/5:\n",
      "Loss = 0.0842\n",
      "Train Accuracy: 0.9790\n",
      "Validate Accuracy: 0.8649\n",
      "\n"
     ]
    }
   ],
   "source": [
    "def train_model(model, train_loader, valid_loader, criterion, optimizer, epochs = 3):\n",
    "    for epoch in range(epochs):\n",
    "        model.train()\n",
    "        running_loss = 0.0\n",
    "        correct, total = 0, 0\n",
    "\n",
    "        for images, labels in train_loader:\n",
    "            images, labels = images.to(device), labels.to(device)\n",
    "            outputs = model(images)\n",
    "            loss = criterion(outputs, labels)\n",
    "\n",
    "            optimizer.zero_grad()\n",
    "            loss.backward()\n",
    "            optimizer.step()\n",
    "\n",
    "            running_loss += loss.item()\n",
    "            _, predicted = outputs.max(1)\n",
    "            correct += (predicted == labels).sum().item()\n",
    "            total += labels.size(0)\n",
    "\n",
    "        train_acc = correct / total\n",
    "        avg_loss = running_loss / len(train_loader)\n",
    "\n",
    "        #Validation\n",
    "        model.eval()\n",
    "        val_correct, val_total = 0, 0\n",
    "        with torch.no_grad():\n",
    "            for images, labels in valid_loader:\n",
    "                images, labels = images.to(device), labels.to(device)\n",
    "                outputs = model(images)\n",
    "                _, predicted = outputs.max(1)\n",
    "                val_correct += (predicted == labels).sum().item()\n",
    "                val_total += labels.size(0)\n",
    "\n",
    "        val_acc = val_correct / val_total\n",
    "        \n",
    "        print(f\"Epoch {epoch+1}/{epochs}:\\nLoss = {avg_loss:.4f}\\nTrain Accuracy: {train_acc:.4f}\\nValidate Accuracy: {val_acc:.4f}\\n\")\n",
    "    \n",
    "train_model(model, train_loader, valid_loader, criterion, optimizer, epochs = 5)"
   ]
  },
  {
   "cell_type": "code",
   "execution_count": null,
   "metadata": {},
   "outputs": [],
   "source": []
  }
 ],
 "metadata": {
  "kernelspec": {
   "display_name": "Jupyter Notebook",
   "language": "python",
   "name": "test_venv"
  },
  "language_info": {
   "codemirror_mode": {
    "name": "ipython",
    "version": 3
   },
   "file_extension": ".py",
   "mimetype": "text/x-python",
   "name": "python",
   "nbconvert_exporter": "python",
   "pygments_lexer": "ipython3",
   "version": "3.12.6"
  }
 },
 "nbformat": 4,
 "nbformat_minor": 2
}
